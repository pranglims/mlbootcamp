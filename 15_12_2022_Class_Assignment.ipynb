{
 "cells": [
  {
   "cell_type": "markdown",
   "id": "86ddbc1d-149e-4727-93cb-6a74703405e9",
   "metadata": {},
   "source": [
    "# WAP to accept an integer from the user and check whether it is an even or odd"
   ]
  },
  {
   "cell_type": "code",
   "execution_count": 12,
   "id": "ffde89ad-6162-410c-a793-467b3d15a18d",
   "metadata": {},
   "outputs": [
    {
     "name": "stdin",
     "output_type": "stream",
     "text": [
      "Enter A Number: 100\n"
     ]
    },
    {
     "name": "stdout",
     "output_type": "stream",
     "text": [
      "100 is EVEN\n"
     ]
    }
   ],
   "source": [
    "# Take input a number from User\n",
    "\n",
    "userInput = int(input(\"Enter A Number:\"))\n",
    "\n",
    "# checking a number is odd or even\n",
    "if userInput == 0:\n",
    "    print(\"{userInput} is neither ODD nor EVEN\".format(userInput = userInput))\n",
    "elif (userInput % 2) == 0:\n",
    "    print(\"{userInput} is EVEN\".format(userInput = userInput))\n",
    "else:\n",
    "    print(\"{userInput} is ODD\".format(userInput = userInput))"
   ]
  },
  {
   "cell_type": "markdown",
   "id": "0bc6781a-61f7-4fd6-a287-1e935dc98548",
   "metadata": {},
   "source": [
    "# WAP to accept a character from the user and check whether it is a capital letter or small letter. Assume user will input only alphabets"
   ]
  },
  {
   "cell_type": "code",
   "execution_count": 16,
   "id": "d8e947d0-8fa9-4d93-bd56-4231cee53e30",
   "metadata": {},
   "outputs": [
    {
     "name": "stdin",
     "output_type": "stream",
     "text": [
      "Enter A Character: q\n"
     ]
    },
    {
     "name": "stdout",
     "output_type": "stream",
     "text": [
      "q is Small Letter\n"
     ]
    }
   ],
   "source": [
    "# Take input a character from User\n",
    "\n",
    "userCharInput = input(\"Enter A Character:\")\n",
    "\n",
    "# Check a character is Capital letter or Small Letter\n",
    "if (userCharInput >= \"A\") and (userCharInput <= \"Z\"):\n",
    "    print(\"{userCharInput} is Capital Letter\".format(userCharInput = userCharInput))\n",
    "else:\n",
    "    print(\"{userCharInput} is Small Letter\".format(userCharInput = userCharInput))"
   ]
  },
  {
   "cell_type": "markdown",
   "id": "fc5bc8ce-c4b9-498b-8213-a79fab284768",
   "metadata": {},
   "source": [
    "# WAP to accept a character from the user and check whether it is a capital letter or small letter or a digit or some special symbol"
   ]
  },
  {
   "cell_type": "code",
   "execution_count": 28,
   "id": "06e05a41-d4d2-43a6-b228-8e4f989c089a",
   "metadata": {},
   "outputs": [
    {
     "name": "stdin",
     "output_type": "stream",
     "text": [
      "Enter A Character: +\n"
     ]
    },
    {
     "name": "stdout",
     "output_type": "stream",
     "text": [
      "+ is a Special Symbol\n"
     ]
    }
   ],
   "source": [
    "# Take input a character from User\n",
    "userGivenInput = input(\"Enter A Character:\")\n",
    "\n",
    "# Check a character is Capital Letter, Small Letter or Digit\n",
    "if (userGivenInput >= \"A\") and (userGivenInput <= \"Z\"):\n",
    "    print(\"{userGivenInput} is Capital Letter\".format(userGivenInput = userGivenInput))\n",
    "elif (userGivenInput >= \"a\") and (userGivenInput <= \"z\"):\n",
    "    print(\"{userGivenInput} is Small Letter\".format(userGivenInput = userGivenInput))\n",
    "elif (userGivenInput >= \"0\") and (userGivenInput <= \"9\"):\n",
    "    print(\"{userGivenInput} is Digit\".format(userGivenInput = userGivenInput))\n",
    "else:\n",
    "    print(\"{userGivenInput} is a Special Symbol\".format(userGivenInput = userGivenInput))"
   ]
  },
  {
   "cell_type": "markdown",
   "id": "117e116d-f823-441d-a932-e9425a0a07bf",
   "metadata": {},
   "source": [
    "# WAP to accept 3 integers from the user and without using any logical operator and cascading of relational operators , find out the greatest number amongst them"
   ]
  },
  {
   "cell_type": "code",
   "execution_count": 79,
   "id": "5ff61cfa-1c88-409b-89c3-c0d28087e4c4",
   "metadata": {},
   "outputs": [
    {
     "name": "stdin",
     "output_type": "stream",
     "text": [
      "Enter First Number: 100\n",
      "Enter Second Number: 110\n",
      "Enter Third Number: 200\n"
     ]
    }
   ],
   "source": [
    "# Take a input from user\n",
    "\n",
    "numberOne = int(input(\"Enter First Number:\"))\n",
    "numberTwo = int(input(\"Enter Second Number:\"))\n",
    "numberThree = int(input(\"Enter Third Number:\"))\n",
    "\n",
    "# Find greatest number among three\n",
    "if numberOne > numberTwo:\n",
    "    if numberOne > numberThree:\n",
    "        print(\"{numberOne} is the greatest number\".format(numberOne = numberOne))\n",
    "elif numberTwo > numberOne:\n",
    "    if numberTwo > numberThree:\n",
    "        print(\"{numberTwo} is the greatest number\".format(numberTwo = numberTwo))\n",
    "# elif numberThree > numberOne:\n",
    "#     if numberThree > numberTwo:\n",
    "#         print(\"{numberThree} is the greatest number\".format(numberThree = numberThree))\n",
    "else:\n",
    "    print(numberThree)\n",
    "    print(\"{numberThree} is the greatest number\".format(numberThree = numberThree))"
   ]
  },
  {
   "cell_type": "markdown",
   "id": "c0dcb523-7e64-46ec-837c-52550f735dc9",
   "metadata": {},
   "source": [
    "# WAP to accept a year from the user and check whether it is a leap year or not.\n",
    "An year is a leap year if:\n",
    "It is exactly divisible by 4 and at the same time not\n",
    "divisible by 100\n",
    "OR\n",
    "It is divisible by 400\n",
    "For example:\n",
    "2017 is not a leap year\n",
    "2012 is a leap year\n",
    "1900 is a not leap year\n",
    "2000 is a leap year\n"
   ]
  },
  {
   "cell_type": "code",
   "execution_count": 54,
   "id": "0acf8270-5828-4bf7-9190-0db1ae65e5f6",
   "metadata": {},
   "outputs": [
    {
     "name": "stdin",
     "output_type": "stream",
     "text": [
      "Enter A Year: 1900\n"
     ]
    },
    {
     "name": "stdout",
     "output_type": "stream",
     "text": [
      "1900 is not a leap year\n"
     ]
    }
   ],
   "source": [
    "# Take a year input from user\n",
    "userYear = int(input(\"Enter A Year:\"))\n",
    "\n",
    "# Calculating for leap year\n",
    "if (((userYear % 4 == 0) and (userYear % 100 != 0)) or (userYear % 400 == 0)):\n",
    "    print(\"{userYear} is leap year\".format(userYear = userYear))\n",
    "else:\n",
    "    print(\"{userYear} is not a leap year\".format(userYear = userYear))"
   ]
  },
  {
   "cell_type": "markdown",
   "id": "0cf5b8f0-092b-465b-8c81-857cfff749bc",
   "metadata": {},
   "source": [
    "# You have to develop a number guessing game. Following are the steps needed:\n",
    "●\tAt first , the program will generate a random integer secretly.\n",
    "\n",
    "●\tNow it will ask the user to guess that number .\n",
    "\n",
    "●\tIf the user guessed it correctly then the program prints “Congratulations! You guessed it right” .\n",
    "\n",
    "●\tBut if the number guessed by the user is larger than the secret number then program should print “Number too large” and , if the number guessed by the user is smaller than the secret number then the program should print “Number too small” \n",
    "\n",
    "●\tThis should continue until the user guesses the number correctly or quits .\n",
    "\n",
    "●\tIf the user wants to quit in between he will have to type 0 or negative number\n"
   ]
  },
  {
   "cell_type": "code",
   "execution_count": 52,
   "id": "36d99523-f5df-4c93-95f9-aa98aa66c171",
   "metadata": {},
   "outputs": [
    {
     "name": "stdin",
     "output_type": "stream",
     "text": [
      "Enter A Number between 1 to 100 and if you enter 0 or any negative number then the game will be close: 23\n"
     ]
    },
    {
     "name": "stdout",
     "output_type": "stream",
     "text": [
      "Number too large\n",
      "Input number was: 23\n",
      "Secret number was: 13\n"
     ]
    },
    {
     "name": "stdin",
     "output_type": "stream",
     "text": [
      "Enter A Number between 1 to 100 and if you enter 0 or any negative number then the game will be close: 34\n"
     ]
    },
    {
     "name": "stdout",
     "output_type": "stream",
     "text": [
      "Number too small\n",
      "Input number was: 34\n",
      "Secret number was: 64\n"
     ]
    },
    {
     "name": "stdin",
     "output_type": "stream",
     "text": [
      "Enter A Number between 1 to 100 and if you enter 0 or any negative number then the game will be close: 56\n"
     ]
    },
    {
     "name": "stdout",
     "output_type": "stream",
     "text": [
      "Number too large\n",
      "Input number was: 56\n",
      "Secret number was: 28\n"
     ]
    },
    {
     "name": "stdin",
     "output_type": "stream",
     "text": [
      "Enter A Number between 1 to 100 and if you enter 0 or any negative number then the game will be close: 0\n"
     ]
    },
    {
     "name": "stdout",
     "output_type": "stream",
     "text": [
      "Game End!!\n"
     ]
    }
   ],
   "source": [
    "import random\n",
    "\n",
    "while(1):\n",
    "    # Take a user input number\n",
    "    userInput = int(input(\"Enter A Number between 1 to 100 and if you enter 0 or any negative number then the game will be close:\"))\n",
    "    secretNumber = random.randrange(1, 101)\n",
    "    if (userInput == 0) or (userInput < 0):\n",
    "        print(\"Game End!!\")\n",
    "        break\n",
    "    elif userInput == secretNumber:\n",
    "        print(\"Congratulations! You guessed it right\")\n",
    "        break\n",
    "    elif userInput < secretNumber:\n",
    "        print(\"Number too small\")\n",
    "    else:\n",
    "        print(\"Number too large\")\n",
    "    print(\"Input number was: {userInput}\".format(userInput = userInput))\n",
    "    print(\"Secret number was: {secretNumber}\".format(secretNumber = secretNumber))"
   ]
  },
  {
   "cell_type": "markdown",
   "id": "deebd56e-bc16-427e-81b3-4ccef2ecb45a",
   "metadata": {},
   "source": [
    "# Write a program to accept a string from the user and display it vertically but don’t display the vowels in it."
   ]
  },
  {
   "cell_type": "code",
   "execution_count": 14,
   "id": "780e6d5c-db4b-4fed-ae18-4da2687505a5",
   "metadata": {},
   "outputs": [
    {
     "name": "stdin",
     "output_type": "stream",
     "text": [
      "Enter A String: pRAnab ghOsh\n"
     ]
    },
    {
     "name": "stdout",
     "output_type": "stream",
     "text": [
      "Displying String vertically without vowel\n",
      "p\n",
      "R\n",
      "n\n",
      "b\n",
      " \n",
      "g\n",
      "h\n",
      "s\n",
      "h\n"
     ]
    }
   ],
   "source": [
    "# Taking a string input from User\n",
    "userInput = input(\"Enter A String:\")\n",
    "\n",
    "i = 0\n",
    "print(\"Displying String vertically without vowel\")\n",
    "# Displaying string without vowels\n",
    "while i < len(userInput):\n",
    "    if userInput[i].lower() not in 'aeiou' :\n",
    "        print(userInput[i])\n",
    "    i = i + 1"
   ]
  },
  {
   "cell_type": "markdown",
   "id": "17fa5cec-bc16-452f-b4ac-49099c334493",
   "metadata": {},
   "source": [
    "# Write a program to continuously accept integers from the user until the user types 0 and as soon as 0 is entered display sum of all the nos entered before 0\n",
    "Note:Modify the previous code so that if the user inputs a negative integer , your program should ignore it .\n"
   ]
  },
  {
   "cell_type": "code",
   "execution_count": 51,
   "id": "68e34a84-ce37-4264-8eaa-c524869ec3a5",
   "metadata": {},
   "outputs": [
    {
     "name": "stdin",
     "output_type": "stream",
     "text": [
      "Enter A Number: 12\n",
      "Enter A Number: 34\n",
      "Enter A Number: -78\n",
      "Enter A Number: 45\n",
      "Enter A Number: 0\n"
     ]
    },
    {
     "name": "stdout",
     "output_type": "stream",
     "text": [
      "Summation of all number is: 91\n"
     ]
    }
   ],
   "source": [
    "result = 0\n",
    "while(1):\n",
    "    userInput = int(input(\"Enter A Number:\"))\n",
    "    result = result + userInput\n",
    "    if userInput < 0:\n",
    "        result = result - userInput\n",
    "    if userInput == 0:\n",
    "        print(\"Summation of all number is:\", result)\n",
    "        break"
   ]
  },
  {
   "cell_type": "markdown",
   "id": "d8f1241b-5037-480a-a23a-1bf40de7413d",
   "metadata": {},
   "source": [
    "# Write a program using a for loop to accept a string from the user and display it vertically but don’t display the vowels in it."
   ]
  },
  {
   "cell_type": "code",
   "execution_count": 22,
   "id": "04a68438-dceb-407e-a9a2-cba4d4f42700",
   "metadata": {},
   "outputs": [
    {
     "name": "stdin",
     "output_type": "stream",
     "text": [
      "Enter A String: pranab ghosh\n"
     ]
    },
    {
     "name": "stdout",
     "output_type": "stream",
     "text": [
      "Displying String vertically without vowel\n",
      "p\n",
      "r\n",
      "n\n",
      "b\n",
      " \n",
      "g\n",
      "h\n",
      "s\n",
      "h\n"
     ]
    }
   ],
   "source": [
    "# Taking a string input from User\n",
    "userInput = input(\"Enter A String:\")\n",
    "\n",
    "print(\"Displying String vertically without vowel\")\n",
    "# Displaying string without vowels\n",
    "for i in range(0, len(userInput)):\n",
    "    if userInput[i].lower() not in 'aeiou' :\n",
    "        print(userInput[i])"
   ]
  },
  {
   "cell_type": "markdown",
   "id": "c2dee443-3791-432d-b5a8-560841d84749",
   "metadata": {},
   "source": [
    "# Write a program to accept an integer from the user and display the sum of all the numbers from 1 to that number."
   ]
  },
  {
   "cell_type": "code",
   "execution_count": 23,
   "id": "8a02282d-361e-415c-821f-108c1f84e2e8",
   "metadata": {},
   "outputs": [
    {
     "name": "stdin",
     "output_type": "stream",
     "text": [
      "Enter A Number: 37\n"
     ]
    },
    {
     "name": "stdout",
     "output_type": "stream",
     "text": [
      "Sum of all the numbers from 1 to 37 is 666\n"
     ]
    }
   ],
   "source": [
    "# Taking a number input from user\n",
    "numberInput = int(input(\"Enter A Number:\"))\n",
    "\n",
    "result = 0\n",
    "i = 1 \n",
    "# summation of all the numbers from 1 to that number\n",
    "while(i < numberInput):\n",
    "    result = result + i\n",
    "    i = i + 1\n",
    "print(\"Sum of all the numbers from 1 to {numberInput} is\".format(numberInput = numberInput), result)"
   ]
  },
  {
   "cell_type": "markdown",
   "id": "22b877da-1de1-4369-9aa2-e357c87f9323",
   "metadata": {},
   "source": [
    "# Write a program to accept an integer from the user and calculate its factorial"
   ]
  },
  {
   "cell_type": "code",
   "execution_count": 32,
   "id": "d167a767-508b-4c74-887b-69c987e73911",
   "metadata": {},
   "outputs": [
    {
     "name": "stdin",
     "output_type": "stream",
     "text": [
      "Enter A Number: 6\n"
     ]
    },
    {
     "name": "stdout",
     "output_type": "stream",
     "text": [
      "Factorial of 6 will be 720\n"
     ]
    }
   ],
   "source": [
    "# Taking a number input from user\n",
    "userInput = int(input(\"Enter A Number:\"))\n",
    "\n",
    "result = 1\n",
    "i = 1\n",
    "# Calculating factorial of a number\n",
    "if (userInput == 0) or (userInput == 1):\n",
    "    print(\"Factorial of {userInput} will be\".format(userInput = userInput), result)\n",
    "else:\n",
    "    while(i <= userInput):\n",
    "        result = result * i\n",
    "        i = i + 1\n",
    "    print(\"Factorial of {userInput} will be\".format(userInput = userInput), result)"
   ]
  },
  {
   "cell_type": "markdown",
   "id": "b27981b3-60f7-4605-8041-74bd0ed82573",
   "metadata": {},
   "source": [
    "# Write a program to print the following pattern\n",
    "* * *\\n\n",
    "* * *\\n\n",
    "* * *\\n\n",
    "* * *\\n"
   ]
  },
  {
   "cell_type": "code",
   "execution_count": 43,
   "id": "32d6633b-7c1d-4627-941e-4bd54ed881ef",
   "metadata": {},
   "outputs": [
    {
     "name": "stdout",
     "output_type": "stream",
     "text": [
      "* * * \n",
      "* * * \n",
      "* * * \n",
      "* * * \n"
     ]
    }
   ],
   "source": [
    "# printing * patterns\n",
    "i = 1\n",
    "while(i < 5):\n",
    "    j = 1\n",
    "    while(j < 4):\n",
    "        print(\"*\", end = \" \")\n",
    "        j = j + 1\n",
    "    print(\"\")\n",
    "    i = i + 1"
   ]
  },
  {
   "cell_type": "markdown",
   "id": "370236da-fc60-4d4b-8d07-6c463154694c",
   "metadata": {},
   "source": [
    "# Write a program to print the following pattern\n",
    "* \\n\n",
    "* * \\n\n",
    "* * *\\n\n",
    "* * * *\\n"
   ]
  },
  {
   "cell_type": "code",
   "execution_count": 46,
   "id": "37cf30ff-3ce2-4686-9dcf-3590edf07f09",
   "metadata": {},
   "outputs": [
    {
     "name": "stdout",
     "output_type": "stream",
     "text": [
      "* \n",
      "* * \n",
      "* * * \n",
      "* * * * \n"
     ]
    }
   ],
   "source": [
    "# printing * patterns\n",
    "i = 1\n",
    "while(i < 5):\n",
    "    j = 1\n",
    "    while(j <= i):\n",
    "        print(\"*\", end = \" \")\n",
    "        j = j + 1\n",
    "    print(\"\")\n",
    "    i = i + 1"
   ]
  },
  {
   "cell_type": "markdown",
   "id": "fba0bf68-3f1b-4e74-8dcc-2ab856579971",
   "metadata": {},
   "source": [
    "# Write a program to print the following pattern\n",
    "* * * *\\n\n",
    "* * *\\n\n",
    "* * \\n\n",
    "* \\n"
   ]
  },
  {
   "cell_type": "code",
   "execution_count": 48,
   "id": "ade877d7-98be-4a06-a811-90787127dd1f",
   "metadata": {},
   "outputs": [
    {
     "name": "stdout",
     "output_type": "stream",
     "text": [
      "* * * * \n",
      "* * * \n",
      "* * \n",
      "* \n"
     ]
    }
   ],
   "source": [
    "# printing * patterns\n",
    "i = 1\n",
    "while(i < 5):\n",
    "    j = 4\n",
    "    while(j >= i):\n",
    "        print(\"*\", end = \" \")\n",
    "        j = j - 1\n",
    "    print(\"\")\n",
    "    i = i + 1"
   ]
  },
  {
   "cell_type": "markdown",
   "id": "809b826b-838e-4743-b8dd-45e42aeda661",
   "metadata": {},
   "source": [
    "# Write a program to accept an integer from the user and display all the numbers from 1 to that number. Repeat the process until the user enters 0."
   ]
  },
  {
   "cell_type": "code",
   "execution_count": 50,
   "id": "314c72e2-5494-4839-8814-d80eb988b9b8",
   "metadata": {},
   "outputs": [
    {
     "name": "stdin",
     "output_type": "stream",
     "text": [
      "Enter an Integer Number: 34\n"
     ]
    },
    {
     "name": "stdout",
     "output_type": "stream",
     "text": [
      "1 2 3 4 5 6 7 8 9 10 11 12 13 14 15 16 17 18 19 20 21 22 23 24 25 26 27 28 29 30 31 32 33 34 \n"
     ]
    },
    {
     "name": "stdin",
     "output_type": "stream",
     "text": [
      "Enter an Integer Number: 45\n"
     ]
    },
    {
     "name": "stdout",
     "output_type": "stream",
     "text": [
      "1 2 3 4 5 6 7 8 9 10 11 12 13 14 15 16 17 18 19 20 21 22 23 24 25 26 27 28 29 30 31 32 33 34 35 36 37 38 39 40 41 42 43 44 45 \n"
     ]
    },
    {
     "name": "stdin",
     "output_type": "stream",
     "text": [
      "Enter an Integer Number: 56\n"
     ]
    },
    {
     "name": "stdout",
     "output_type": "stream",
     "text": [
      "1 2 3 4 5 6 7 8 9 10 11 12 13 14 15 16 17 18 19 20 21 22 23 24 25 26 27 28 29 30 31 32 33 34 35 36 37 38 39 40 41 42 43 44 45 46 47 48 49 50 51 52 53 54 55 56 \n"
     ]
    },
    {
     "name": "stdin",
     "output_type": "stream",
     "text": [
      "Enter an Integer Number: 34\n"
     ]
    },
    {
     "name": "stdout",
     "output_type": "stream",
     "text": [
      "1 2 3 4 5 6 7 8 9 10 11 12 13 14 15 16 17 18 19 20 21 22 23 24 25 26 27 28 29 30 31 32 33 34 \n"
     ]
    },
    {
     "name": "stdin",
     "output_type": "stream",
     "text": [
      "Enter an Integer Number: 78\n"
     ]
    },
    {
     "name": "stdout",
     "output_type": "stream",
     "text": [
      "1 2 3 4 5 6 7 8 9 10 11 12 13 14 15 16 17 18 19 20 21 22 23 24 25 26 27 28 29 30 31 32 33 34 35 36 37 38 39 40 41 42 43 44 45 46 47 48 49 50 51 52 53 54 55 56 57 58 59 60 61 62 63 64 65 66 67 68 69 70 71 72 73 74 75 76 77 78 \n"
     ]
    },
    {
     "name": "stdin",
     "output_type": "stream",
     "text": [
      "Enter an Integer Number: 79\n"
     ]
    },
    {
     "name": "stdout",
     "output_type": "stream",
     "text": [
      "1 2 3 4 5 6 7 8 9 10 11 12 13 14 15 16 17 18 19 20 21 22 23 24 25 26 27 28 29 30 31 32 33 34 35 36 37 38 39 40 41 42 43 44 45 46 47 48 49 50 51 52 53 54 55 56 57 58 59 60 61 62 63 64 65 66 67 68 69 70 71 72 73 74 75 76 77 78 79 \n"
     ]
    },
    {
     "name": "stdin",
     "output_type": "stream",
     "text": [
      "Enter an Integer Number: 0\n"
     ]
    },
    {
     "name": "stdout",
     "output_type": "stream",
     "text": [
      "Program End!!\n"
     ]
    }
   ],
   "source": [
    "# display all the numbers from 1 to that number\n",
    "while(1):\n",
    "    userInput = int(input(\"Enter an Integer Number:\"))\n",
    "    i = 1\n",
    "    if userInput == 0:\n",
    "        print(\"Program End!!\")\n",
    "        break\n",
    "    else:\n",
    "        while(i <= userInput):\n",
    "            print(i, end = \" \")\n",
    "            i = i + 1\n",
    "    print(\"\")"
   ]
  },
  {
   "cell_type": "code",
   "execution_count": null,
   "id": "ef61dc3f-7b01-4a73-bf3e-e6767c17467f",
   "metadata": {},
   "outputs": [],
   "source": []
  }
 ],
 "metadata": {
  "kernelspec": {
   "display_name": "Python 3 (ipykernel)",
   "language": "python",
   "name": "python3"
  },
  "language_info": {
   "codemirror_mode": {
    "name": "ipython",
    "version": 3
   },
   "file_extension": ".py",
   "mimetype": "text/x-python",
   "name": "python",
   "nbconvert_exporter": "python",
   "pygments_lexer": "ipython3",
   "version": "3.10.6"
  }
 },
 "nbformat": 4,
 "nbformat_minor": 5
}
