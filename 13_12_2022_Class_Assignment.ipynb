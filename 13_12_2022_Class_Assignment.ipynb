{
 "cells": [
  {
   "cell_type": "markdown",
   "id": "3f52f977-12b1-4855-acd3-af33222770fe",
   "metadata": {},
   "source": [
    "# 13/12/2022 - Assignments\n",
    "# WAP to accept two numbers from the user and display their sum"
   ]
  },
  {
   "cell_type": "code",
   "execution_count": 9,
   "id": "d36107a5-7919-4189-9eb6-1009a7d62182",
   "metadata": {},
   "outputs": [
    {
     "name": "stdin",
     "output_type": "stream",
     "text": [
      "Enter First Number: 20\n",
      "Enter Second Number: 90\n"
     ]
    },
    {
     "name": "stdout",
     "output_type": "stream",
     "text": [
      "The addition result of 20 and 90 are: 110\n"
     ]
    }
   ],
   "source": [
    "# Input two numbers from user\n",
    "\n",
    "firstNumber = int(input(\"Enter First Number:\"))\n",
    "secondNumber = int(input(\"Enter Second Number:\"))\n",
    "\n",
    "# Addition of two numbers\n",
    "\n",
    "additionResult = firstNumber + secondNumber\n",
    "\n",
    "# Display result of two numbers \n",
    "\n",
    "print(\"The addition result of {firstNumber} and {secondNumber} are:\".format(firstNumber=firstNumber, secondNumber=secondNumber),additionResult)"
   ]
  },
  {
   "cell_type": "markdown",
   "id": "493cd266-45e8-42e9-aa23-095e6cfd0fc7",
   "metadata": {},
   "source": [
    "# WAP to accept radius of a Circle from the user and calculate area and circumference"
   ]
  },
  {
   "cell_type": "code",
   "execution_count": 18,
   "id": "6a197074-0659-4dc4-9b59-63fc6d46f15c",
   "metadata": {},
   "outputs": [
    {
     "name": "stdin",
     "output_type": "stream",
     "text": [
      "Enter Radius Of A Circle:  23\n"
     ]
    },
    {
     "name": "stdout",
     "output_type": "stream",
     "text": [
      "Area of a Circle is: 1661.9 and Circumference of a Circle is: 144.51\n"
     ]
    }
   ],
   "source": [
    "import math \n",
    "\n",
    "\n",
    "# Input radius of circle from user\n",
    "\n",
    "radiusOfCircle = int(input(\"Enter Radius Of A Circle: \"))\n",
    "\n",
    "# Value of Pi\n",
    "piValue = round(math.pi, 4)\n",
    "\n",
    "# Calculate area of Circle\n",
    "areaOfCircle = round((piValue * radiusOfCircle * radiusOfCircle), 1)\n",
    "\n",
    "# Calculate circumference if Circle\n",
    "circumferenceOfCircle = round((2 * piValue * radiusOfCircle), 2)\n",
    "\n",
    "# Display Result of Area & circumference of circle\n",
    "print(\"Area of a Circle is: {areaOfCircle} and Circumference of a Circle is: {circumferenceOfCircle}\".format(areaOfCircle = areaOfCircle, circumferenceOfCircle = circumferenceOfCircle))"
   ]
  },
  {
   "cell_type": "markdown",
   "id": "92bd67b8-a450-418d-a591-1d3b3f9c4c50",
   "metadata": {},
   "source": [
    "# WAP to accept roll number , grade and percentage as input from the user and display it back"
   ]
  },
  {
   "cell_type": "code",
   "execution_count": 28,
   "id": "82076844-e710-4cc9-91cc-3192652a68b6",
   "metadata": {},
   "outputs": [
    {
     "name": "stdin",
     "output_type": "stream",
     "text": [
      "Enter Roll Number: 25\n",
      "Enter Grade: B\n",
      "Enter Percentage 78.9\n"
     ]
    },
    {
     "name": "stdout",
     "output_type": "stream",
     "text": [
      "roll number is: 25, grade is: B and percentage is: 78.9\n"
     ]
    }
   ],
   "source": [
    "# Input Roll Number, Grade & Precentage from User\n",
    "\n",
    "rollNumber = int(input(\"Enter Roll Number:\"))\n",
    "grade = input(\"Enter Grade:\")\n",
    "percentage = float(input(\"Enter Percentage\"))\n",
    "\n",
    "# Display user's roll number, grade and percentage\n",
    "\n",
    "print(\"roll number is: {rollNumber}, grade is: {grade} and percentage is: {percentage}\".format(rollNumber = rollNumber, grade = grade, percentage = percentage))\n"
   ]
  },
  {
   "cell_type": "markdown",
   "id": "80a5fb45-3099-41dc-880a-91e62fef65fd",
   "metadata": {},
   "source": [
    "# Write a program that asks the user to enter his/her name and age. Print out a message , displaying the user’s name along with the year in which they will turn 100 years old."
   ]
  },
  {
   "cell_type": "code",
   "execution_count": 26,
   "id": "a91b526f-0fc6-4a39-a848-b580413296d0",
   "metadata": {},
   "outputs": [
    {
     "name": "stdin",
     "output_type": "stream",
     "text": [
      "Enter Name Of the User: Pranab\n",
      "Enter Age Of the User: 29\n"
     ]
    },
    {
     "name": "stdout",
     "output_type": "stream",
     "text": [
      "Name of the user is: Pranab and the user will turn 100 years old in: 2093\n"
     ]
    }
   ],
   "source": [
    "from datetime import date\n",
    "\n",
    "# Input Name & Age from User.\n",
    "userName = input(\"Enter Name Of the User:\")\n",
    "inputAge = int(input(\"Enter Age Of the User:\"))\n",
    "\n",
    "# Take current Year\n",
    "todayDate = date.today()\n",
    "currentYear = todayDate.year\n",
    "\n",
    "# Take remaining year to become 100 years old\n",
    "remainingYearNeeded = 100 - inputAge\n",
    "\n",
    "# In the year when the user will turn 100 years old\n",
    "finalYear = currentYear + remainingYearNeeded\n",
    "\n",
    "# Display the Name & Final Year when the User will turn 100 years old\n",
    "print(\"Name of the user is: {userName} and the user will turn 100 years old in: {finalYear}\".format(userName = userName, finalYear = finalYear))"
   ]
  },
  {
   "cell_type": "markdown",
   "id": "c4ab0abf-d3f3-4ef5-9156-e63924f84443",
   "metadata": {},
   "source": [
    "# Write a program that asks the user to input 2 integers and adds them . Accept both the numbers in a single line only"
   ]
  },
  {
   "cell_type": "code",
   "execution_count": 37,
   "id": "a8c01c56-e931-4485-abe2-d43b345f37b9",
   "metadata": {},
   "outputs": [
    {
     "name": "stdin",
     "output_type": "stream",
     "text": [
      "Enter Two number in a single line and put a space between two number: 100 90\n"
     ]
    },
    {
     "name": "stdout",
     "output_type": "stream",
     "text": [
      "The addition result of 100.0 and 90.0 is:  190.0\n"
     ]
    }
   ],
   "source": [
    "# Take a user input of two integer numbers in a single line\n",
    "userInput = input(\"Enter Two number in a single line and put a space between two number:\")\n",
    "\n",
    "# Split two number\n",
    "firstNumber, secondNumber = userInput.split()\n",
    "\n",
    "# Convert String to Float value\n",
    "firstNumber = float(firstNumber)\n",
    "secondNumber = float(secondNumber)\n",
    "\n",
    "# Adding to two number\n",
    "addResult = firstNumber + secondNumber\n",
    "\n",
    "# Display result of addition\n",
    "print(\"The addition result of {firstNumber} and {secondNumber} is: \".format(firstNumber = firstNumber, secondNumber = secondNumber), addResult)"
   ]
  },
  {
   "cell_type": "markdown",
   "id": "a82d6522-6158-42df-b58b-9e2cb4e8335d",
   "metadata": {},
   "source": [
    "# Write a Python program which accepts the user's first and last name and print them in reverse order with a space between them."
   ]
  },
  {
   "cell_type": "code",
   "execution_count": 41,
   "id": "e64ba549-6f60-432f-bcdc-84eed838b941",
   "metadata": {},
   "outputs": [
    {
     "name": "stdin",
     "output_type": "stream",
     "text": [
      "Enter First Name: Pranab\n",
      "Enter Last Name: Ghosh\n"
     ]
    },
    {
     "name": "stdout",
     "output_type": "stream",
     "text": [
      "Before Reverse Order, first name is Pranab and last name is Ghosh\n",
      "After Reverse Order-->Ghosh Pranab\n"
     ]
    }
   ],
   "source": [
    "# Take input first and last name from user\n",
    "firstName = input(\"Enter First Name:\")\n",
    "lastName = input(\"Enter Last Name:\")\n",
    "\n",
    "# Display those in actual order\n",
    "print(\"Before Reverse Order, first name is {firstName} and last name is {lastName}\".format(firstName = firstName, lastName = lastName))\n",
    "\n",
    "# Display those in reverse order\n",
    "print(\"After Reverse Order-->\" + lastName + \" \" + firstName)"
   ]
  },
  {
   "cell_type": "code",
   "execution_count": null,
   "id": "33f977e0-a511-4aa5-b591-82e06fa3668a",
   "metadata": {},
   "outputs": [],
   "source": []
  }
 ],
 "metadata": {
  "kernelspec": {
   "display_name": "Python 3 (ipykernel)",
   "language": "python",
   "name": "python3"
  },
  "language_info": {
   "codemirror_mode": {
    "name": "ipython",
    "version": 3
   },
   "file_extension": ".py",
   "mimetype": "text/x-python",
   "name": "python",
   "nbconvert_exporter": "python",
   "pygments_lexer": "ipython3",
   "version": "3.10.6"
  }
 },
 "nbformat": 4,
 "nbformat_minor": 5
}
