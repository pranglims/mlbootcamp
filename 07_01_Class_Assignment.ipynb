{
 "cells": [
  {
   "cell_type": "markdown",
   "id": "cd94ebce-bc5f-4144-a128-4c7f3512b2aa",
   "metadata": {},
   "source": [
    "# Write a program to accept five integers from the user , store them in a list . Display these integers and also display their sum"
   ]
  },
  {
   "cell_type": "code",
   "execution_count": 8,
   "id": "8ab9b10f-2c5a-4767-ac0c-1da9cb5322d4",
   "metadata": {},
   "outputs": [
    {
     "name": "stdin",
     "output_type": "stream",
     "text": [
      "Enter A Number: 100\n",
      "Enter A Number: 234\n",
      "Enter A Number: 456\n",
      "Enter A Number: 789\n",
      "Enter A Number: 890\n"
     ]
    },
    {
     "name": "stdout",
     "output_type": "stream",
     "text": [
      "---- User Inserted List is--------\n",
      "[100, 234, 456, 789, 890]\n",
      "Sum of the inserted numbers is: 2469\n"
     ]
    }
   ],
   "source": [
    "user_list = []\n",
    "i = 0\n",
    "\n",
    "# Taking user input and added in the list\n",
    "while i < 5:\n",
    "    user_input = int(input(\"Enter A Number:\"))\n",
    "    user_list.insert(i, user_input)\n",
    "    i = i + 1\n",
    "\n",
    "print(\"---- User Inserted List is--------\")\n",
    "print(user_list)\n",
    "print(\"Sum of the inserted numbers is:\", sum(user_list))"
   ]
  },
  {
   "cell_type": "markdown",
   "id": "d74e6ded-1a78-4d4f-9cb3-7e7c2241e3f0",
   "metadata": {},
   "source": [
    "# Write a program to accept 5 unique integers from the user. Make sure if the integer being entered is already present in the list your code displays the message “Item already present” and ask the user to reenter the integer."
   ]
  },
  {
   "cell_type": "code",
   "execution_count": 13,
   "id": "aff44a30-622f-40e2-899c-29996e4f1d32",
   "metadata": {},
   "outputs": [
    {
     "name": "stdin",
     "output_type": "stream",
     "text": [
      "Enter A Number: 1\n",
      "Enter A Number: 2\n",
      "Enter A Number: 2\n"
     ]
    },
    {
     "name": "stdout",
     "output_type": "stream",
     "text": [
      "Item already present... Please re-enter another number\n"
     ]
    },
    {
     "name": "stdin",
     "output_type": "stream",
     "text": [
      "Enter A Number: 3\n",
      "Enter A Number: 3\n"
     ]
    },
    {
     "name": "stdout",
     "output_type": "stream",
     "text": [
      "Item already present... Please re-enter another number\n"
     ]
    },
    {
     "name": "stdin",
     "output_type": "stream",
     "text": [
      "Enter A Number: 4\n",
      "Enter A Number: 4\n"
     ]
    },
    {
     "name": "stdout",
     "output_type": "stream",
     "text": [
      "Item already present... Please re-enter another number\n"
     ]
    },
    {
     "name": "stdin",
     "output_type": "stream",
     "text": [
      "Enter A Number: 5\n"
     ]
    },
    {
     "name": "stdout",
     "output_type": "stream",
     "text": [
      "---- User Inserted List is--------\n",
      "[1, 2, 3, 4, 5]\n"
     ]
    }
   ],
   "source": [
    "user_list = []\n",
    "i = 0\n",
    "while i < 5:\n",
    "    user_input = int(input(\"Enter A Number:\"))\n",
    "    if user_list.count(user_input) >= 1:\n",
    "        print(\"Item already present... Please re-enter another number\")\n",
    "    else:\n",
    "        user_list.insert(i, user_input)\n",
    "        i = i + 1\n",
    "\n",
    "print(\"---- User Inserted List is--------\")\n",
    "print(user_list)"
   ]
  },
  {
   "cell_type": "markdown",
   "id": "93905d55-fdf8-437c-bf65-80f40d9263c0",
   "metadata": {},
   "source": [
    "# Write a program to accept 2 lists from the user of 5 nos each . Assume each list will have unique nos Now find out how many items in these lists are common ."
   ]
  },
  {
   "cell_type": "code",
   "execution_count": 20,
   "id": "ee32a212-02fb-4a4e-a5cc-4196836c53b2",
   "metadata": {},
   "outputs": [
    {
     "name": "stdout",
     "output_type": "stream",
     "text": [
      "---- Taking User Input For First List ------\n"
     ]
    },
    {
     "name": "stdin",
     "output_type": "stream",
     "text": [
      "Enter A Number For First List: 1\n",
      "Enter A Number For First List: 2\n",
      "Enter A Number For First List: 3\n",
      "Enter A Number For First List: 4\n",
      "Enter A Number For First List: 5\n"
     ]
    },
    {
     "name": "stdout",
     "output_type": "stream",
     "text": [
      "--------- Taking User Input For Second List --------\n"
     ]
    },
    {
     "name": "stdin",
     "output_type": "stream",
     "text": [
      "Enter A Number For Second List: 5\n",
      "Enter A Number For Second List: 3\n",
      "Enter A Number For Second List: 6\n",
      "Enter A Number For Second List: 4\n",
      "Enter A Number For Second List: 5\n"
     ]
    },
    {
     "name": "stdout",
     "output_type": "stream",
     "text": [
      "Item already present... Please re-enter another number\n"
     ]
    },
    {
     "name": "stdin",
     "output_type": "stream",
     "text": [
      "Enter A Number For Second List: 9\n"
     ]
    },
    {
     "name": "stdout",
     "output_type": "stream",
     "text": [
      "---- User Inserted First List is--------\n",
      "[1, 2, 3, 4, 5]\n",
      "---- User Inserted Second List is--------\n",
      "[5, 3, 6, 4, 9]\n",
      "3 Items from both two lists are common!!\n"
     ]
    }
   ],
   "source": [
    "user_list_one = []\n",
    "user_list_two = []\n",
    "\n",
    "# Taking user input for First List\n",
    "\n",
    "i = 0\n",
    "print(\"---- Taking User Input For First List ------\")\n",
    "while i < 5:\n",
    "    user_input = int(input(\"Enter A Number For First List:\"))\n",
    "    if user_list_one.count(user_input) >= 1:\n",
    "        print(\"Item already present... Please re-enter another number\")\n",
    "    else:\n",
    "        user_list_one.insert(i, user_input)\n",
    "        i = i + 1\n",
    "\n",
    "# Taking user input for Second List\n",
    "j = 0\n",
    "print(\"--------- Taking User Input For Second List --------\")\n",
    "while j < 5:\n",
    "    user_input = int(input(\"Enter A Number For Second List:\"))\n",
    "    if user_list_two.count(user_input) >= 1:\n",
    "        print(\"Item already present... Please re-enter another number\")\n",
    "    else:\n",
    "        user_list_two.insert(i, user_input)\n",
    "        j = j + 1\n",
    "\n",
    "print(\"---- User Inserted First List is--------\")\n",
    "print(user_list_one)\n",
    "print(\"---- User Inserted Second List is--------\")\n",
    "print(user_list_two)\n",
    "\n",
    "count = 0\n",
    "k = 0\n",
    "while k < len(user_list_one):\n",
    "    if user_list_two.count(user_list_one[k]) >= 1:\n",
    "        count = count + 1\n",
    "    k = k + 1\n",
    "\n",
    "print(count, \"Items from both two lists are common!!\")"
   ]
  },
  {
   "cell_type": "markdown",
   "id": "849d687c-686b-4810-b164-11e5661e5ac7",
   "metadata": {},
   "source": [
    "# Rewrite the previous code so that your code alos displays the items which are common in both the lists"
   ]
  },
  {
   "cell_type": "code",
   "execution_count": 23,
   "id": "3e5de6f9-c884-46f5-9a40-976d8309fbd4",
   "metadata": {},
   "outputs": [
    {
     "name": "stdout",
     "output_type": "stream",
     "text": [
      "---- Taking User Input For First List ------\n"
     ]
    },
    {
     "name": "stdin",
     "output_type": "stream",
     "text": [
      "Enter A Number For First List: 1\n",
      "Enter A Number For First List: 2\n",
      "Enter A Number For First List: 3\n",
      "Enter A Number For First List: 4\n",
      "Enter A Number For First List: 5\n"
     ]
    },
    {
     "name": "stdout",
     "output_type": "stream",
     "text": [
      "--------- Taking User Input For Second List --------\n"
     ]
    },
    {
     "name": "stdin",
     "output_type": "stream",
     "text": [
      "Enter A Number For Second List: 5\n",
      "Enter A Number For Second List: 4\n",
      "Enter A Number For Second List: 3\n",
      "Enter A Number For Second List: 2\n",
      "Enter A Number For Second List: 1\n"
     ]
    },
    {
     "name": "stdout",
     "output_type": "stream",
     "text": [
      "---- User Inserted First List is--------\n",
      "[1, 2, 3, 4, 5]\n",
      "---- User Inserted Second List is--------\n",
      "[5, 4, 3, 2, 1]\n",
      "Common Items list from both two lists are [1, 2, 3, 4, 5]\n"
     ]
    }
   ],
   "source": [
    "user_list_one = []\n",
    "user_list_two = []\n",
    "common_items_list = []\n",
    "\n",
    "# Taking user input for First List\n",
    "\n",
    "i = 0\n",
    "print(\"---- Taking User Input For First List ------\")\n",
    "while i < 5:\n",
    "    user_input = int(input(\"Enter A Number For First List:\"))\n",
    "    if user_list_one.count(user_input) >= 1:\n",
    "        print(\"Item already present... Please re-enter another number\")\n",
    "    else:\n",
    "        user_list_one.insert(i, user_input)\n",
    "        i = i + 1\n",
    "\n",
    "# Taking user input for Second List\n",
    "j = 0\n",
    "print(\"--------- Taking User Input For Second List --------\")\n",
    "while j < 5:\n",
    "    user_input = int(input(\"Enter A Number For Second List:\"))\n",
    "    if user_list_two.count(user_input) >= 1:\n",
    "        print(\"Item already present... Please re-enter another number\")\n",
    "    else:\n",
    "        user_list_two.insert(i, user_input)\n",
    "        j = j + 1\n",
    "\n",
    "print(\"---- User Inserted First List is--------\")\n",
    "print(user_list_one)\n",
    "print(\"---- User Inserted Second List is--------\")\n",
    "print(user_list_two)\n",
    "\n",
    "count = 0\n",
    "k = 0\n",
    "while k < len(user_list_one):\n",
    "    if user_list_two.count(user_list_one[k]) >= 1:\n",
    "        common_items_list.append(user_list_one[k])\n",
    "    k = k + 1\n",
    "\n",
    "print(\"Common Items list from both two lists are\", common_items_list)"
   ]
  },
  {
   "cell_type": "code",
   "execution_count": null,
   "id": "09df8af3-14e4-44f7-b53f-92b53d45c383",
   "metadata": {},
   "outputs": [],
   "source": []
  }
 ],
 "metadata": {
  "kernelspec": {
   "display_name": "Python 3 (ipykernel)",
   "language": "python",
   "name": "python3"
  },
  "language_info": {
   "codemirror_mode": {
    "name": "ipython",
    "version": 3
   },
   "file_extension": ".py",
   "mimetype": "text/x-python",
   "name": "python",
   "nbconvert_exporter": "python",
   "pygments_lexer": "ipython3",
   "version": "3.10.6"
  }
 },
 "nbformat": 4,
 "nbformat_minor": 5
}
